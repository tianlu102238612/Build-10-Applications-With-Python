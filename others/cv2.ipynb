{
 "cells": [
  {
   "cell_type": "code",
   "execution_count": 5,
   "metadata": {},
   "outputs": [
    {
     "data": {
      "text/plain": [
       "array([[187, 158, 104, 121, 143],\n",
       "       [198, 125, 255, 255, 147],\n",
       "       [209, 134, 255,  97, 182]], dtype=uint8)"
      ]
     },
     "execution_count": 5,
     "metadata": {},
     "output_type": "execute_result"
    }
   ],
   "source": [
    "import cv2\n",
    "img0 = cv2.imread(\"gray.png\",0)\n",
    "img0"
   ]
  },
  {
   "cell_type": "code",
   "execution_count": 6,
   "metadata": {},
   "outputs": [
    {
     "data": {
      "text/plain": [
       "array([[[187, 187, 187],\n",
       "        [158, 158, 158],\n",
       "        [104, 104, 104],\n",
       "        [121, 121, 121],\n",
       "        [143, 143, 143]],\n",
       "\n",
       "       [[198, 198, 198],\n",
       "        [125, 125, 125],\n",
       "        [255, 255, 255],\n",
       "        [255, 255, 255],\n",
       "        [147, 147, 147]],\n",
       "\n",
       "       [[209, 209, 209],\n",
       "        [134, 134, 134],\n",
       "        [255, 255, 255],\n",
       "        [ 97,  97,  97],\n",
       "        [182, 182, 182]]], dtype=uint8)"
      ]
     },
     "execution_count": 6,
     "metadata": {},
     "output_type": "execute_result"
    }
   ],
   "source": [
    "img1 = cv2.imread(\"gray.png\",1)\n",
    "img1"
   ]
  },
  {
   "cell_type": "code",
   "execution_count": 9,
   "metadata": {},
   "outputs": [
    {
     "data": {
      "text/plain": [
       "True"
      ]
     },
     "execution_count": 9,
     "metadata": {},
     "output_type": "execute_result"
    }
   ],
   "source": [
    "cv2.imwrite(\"newGray.png\",img1)"
   ]
  },
  {
   "cell_type": "code",
   "execution_count": 17,
   "metadata": {},
   "outputs": [
    {
     "data": {
      "text/plain": [
       "array([[[187, 187, 187],\n",
       "        [158, 158, 158],\n",
       "        [104, 104, 104],\n",
       "        [121, 121, 121],\n",
       "        [143, 143, 143]],\n",
       "\n",
       "       [[198, 198, 198],\n",
       "        [125, 125, 125],\n",
       "        [255, 255, 255],\n",
       "        [255, 255, 255],\n",
       "        [147, 147, 147]]], dtype=uint8)"
      ]
     },
     "execution_count": 17,
     "metadata": {},
     "output_type": "execute_result"
    }
   ],
   "source": [
    "#slicing\n",
    "img1[0:2]"
   ]
  },
  {
   "cell_type": "code",
   "execution_count": 13,
   "metadata": {},
   "outputs": [
    {
     "name": "stdout",
     "output_type": "stream",
     "text": [
      "[[187 187 187]\n",
      " [158 158 158]\n",
      " [104 104 104]\n",
      " [121 121 121]\n",
      " [143 143 143]]\n",
      "[[198 198 198]\n",
      " [125 125 125]\n",
      " [255 255 255]\n",
      " [255 255 255]\n",
      " [147 147 147]]\n",
      "[[209 209 209]\n",
      " [134 134 134]\n",
      " [255 255 255]\n",
      " [ 97  97  97]\n",
      " [182 182 182]]\n"
     ]
    }
   ],
   "source": [
    "#iterating\n",
    "for i in img1:\n",
    "    print(i)"
   ]
  },
  {
   "cell_type": "code",
   "execution_count": 14,
   "metadata": {},
   "outputs": [
    {
     "name": "stdout",
     "output_type": "stream",
     "text": [
      "187\n",
      "187\n",
      "187\n",
      "158\n",
      "158\n",
      "158\n",
      "104\n",
      "104\n",
      "104\n",
      "121\n",
      "121\n",
      "121\n",
      "143\n",
      "143\n",
      "143\n",
      "198\n",
      "198\n",
      "198\n",
      "125\n",
      "125\n",
      "125\n",
      "255\n",
      "255\n",
      "255\n",
      "255\n",
      "255\n",
      "255\n",
      "147\n",
      "147\n",
      "147\n",
      "209\n",
      "209\n",
      "209\n",
      "134\n",
      "134\n",
      "134\n",
      "255\n",
      "255\n",
      "255\n",
      "97\n",
      "97\n",
      "97\n",
      "182\n",
      "182\n",
      "182\n"
     ]
    }
   ],
   "source": [
    "for i in img1.flat:\n",
    "    print(i)"
   ]
  },
  {
   "cell_type": "code",
   "execution_count": 24,
   "metadata": {},
   "outputs": [
    {
     "data": {
      "text/plain": [
       "array([187, 187, 187, 198, 198, 198, 209, 209, 209, 158, 158, 158, 125,\n",
       "       125, 125, 134, 134, 134, 104, 104, 104, 255, 255, 255, 255, 255,\n",
       "       255, 121, 121, 121, 255, 255, 255,  97,  97,  97, 143, 143, 143,\n",
       "       147, 147, 147, 182, 182, 182], dtype=uint8)"
      ]
     },
     "execution_count": 24,
     "metadata": {},
     "output_type": "execute_result"
    }
   ],
   "source": [
    "import numpy\n",
    "img2 = numpy.hstack(img1)\n",
    "img2"
   ]
  },
  {
   "cell_type": "code",
   "execution_count": 27,
   "metadata": {},
   "outputs": [
    {
     "data": {
      "text/plain": [
       "array([[187],\n",
       "       [187],\n",
       "       [187],\n",
       "       [198],\n",
       "       [198],\n",
       "       [198],\n",
       "       [209],\n",
       "       [209],\n",
       "       [209],\n",
       "       [158],\n",
       "       [158],\n",
       "       [158],\n",
       "       [125],\n",
       "       [125],\n",
       "       [125],\n",
       "       [134],\n",
       "       [134],\n",
       "       [134],\n",
       "       [104],\n",
       "       [104],\n",
       "       [104],\n",
       "       [255],\n",
       "       [255],\n",
       "       [255],\n",
       "       [255],\n",
       "       [255],\n",
       "       [255],\n",
       "       [121],\n",
       "       [121],\n",
       "       [121],\n",
       "       [255],\n",
       "       [255],\n",
       "       [255],\n",
       "       [ 97],\n",
       "       [ 97],\n",
       "       [ 97],\n",
       "       [143],\n",
       "       [143],\n",
       "       [143],\n",
       "       [147],\n",
       "       [147],\n",
       "       [147],\n",
       "       [182],\n",
       "       [182],\n",
       "       [182]], dtype=uint8)"
      ]
     },
     "execution_count": 27,
     "metadata": {},
     "output_type": "execute_result"
    }
   ],
   "source": [
    "import numpy\n",
    "img3 = numpy.vstack(img1)\n",
    "img3"
   ]
  }
 ],
 "metadata": {
  "kernelspec": {
   "display_name": "Python 3",
   "language": "python",
   "name": "python3"
  },
  "language_info": {
   "codemirror_mode": {
    "name": "ipython",
    "version": 3
   },
   "file_extension": ".py",
   "mimetype": "text/x-python",
   "name": "python",
   "nbconvert_exporter": "python",
   "pygments_lexer": "ipython3",
   "version": "3.7.7"
  }
 },
 "nbformat": 4,
 "nbformat_minor": 4
}
