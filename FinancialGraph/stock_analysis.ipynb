{
 "cells": [
  {
   "cell_type": "code",
   "execution_count": 39,
   "metadata": {},
   "outputs": [
    {
     "data": {
      "text/plain": [
       "DatetimeIndex(['2020-01-29', '2020-01-30', '2020-01-31', '2020-02-03',\n",
       "               '2020-02-04', '2020-02-06', '2020-02-07', '2020-02-11',\n",
       "               '2020-02-13', '2020-02-14', '2020-02-18', '2020-02-28',\n",
       "               '2020-03-02', '2020-03-05', '2020-03-06', '2020-03-09',\n",
       "               '2020-03-19', '2020-03-23', '2020-03-24', '2020-03-27',\n",
       "               '2020-03-31', '2020-04-06', '2020-04-07', '2020-04-09',\n",
       "               '2020-04-13', '2020-04-14', '2020-04-16', '2020-04-20',\n",
       "               '2020-04-22', '2020-04-24', '2020-04-27', '2020-04-29',\n",
       "               '2020-05-04', '2020-05-06', '2020-05-07', '2020-05-08',\n",
       "               '2020-05-11', '2020-05-14', '2020-05-15', '2020-05-21',\n",
       "               '2020-05-29', '2020-06-01', '2020-06-05', '2020-06-08',\n",
       "               '2020-06-09', '2020-06-10', '2020-06-15', '2020-06-17',\n",
       "               '2020-06-18', '2020-06-23', '2020-06-25'],\n",
       "              dtype='datetime64[ns]', name='Date', freq=None)"
      ]
     },
     "execution_count": 39,
     "metadata": {},
     "output_type": "execute_result"
    }
   ],
   "source": [
    "from pandas_datareader import data\n",
    "import datetime\n",
    "from bokeh.plotting import figure,show,output_file\n",
    "\n",
    "start = datetime.datetime(2020,1,29)\n",
    "end = datetime.datetime(2020,6,29)\n",
    "df = data.DataReader(name=\"TSLA\",data_source=\"yahoo\",start=start,end=end)\n",
    "df.index[df.Close > df.Open]\n",
    "\n",
    "def inc_dec(c,o):\n",
    "    if c>o:\n",
    "        value = \"Increase\"\n",
    "    elif c<o:\n",
    "        value = \"Decrease\"\n",
    "    else:\n",
    "        value = \"Equal\"\n",
    "    return value\n",
    "\n",
    "df[\"Status\"] = [inc_dec(c,o) for c,o in zip(df.Close,df.Open)]\n",
    "df[\"Middle\"] = (df.Open + df.Close)/2\n",
    "df[\"Height\"] = abs(df.Close - df.Open)\n",
    "df\n",
    "\n",
    "p = figure(x_axis_type='datetime',width=1000,height=300)\n",
    "p.title.text = \"Candlestick Chart\"\n",
    "p.grid.grid_line_alpha = 0.3\n",
    "\n",
    "hours_12 = 12*60*60*1000\n",
    "p.segment(df.index,df.High,df.index,df.Low,color=\"Black\")\n",
    "\n",
    "p.rect(df.index[df.Status==\"Increase\"],df.Middle[df.Status == \"Increase\"],hours_12,df.Height[df.Status == \"Increase\"],fill_color=\"green\",line_color=\"black\")\n",
    "p.rect(df.index[df.Status==\"Decrease\"],df.Middle[df.Status == \"Decrease\"],hours_12,df.Height[df.Status == \"Decrease\"],fill_color=\"red\",line_color=\"black\")\n",
    "output_file(\"stockAnalysis.html\")\n",
    "show(p)\n",
    "\n"
   ]
  },
  {
   "cell_type": "code",
   "execution_count": null,
   "metadata": {},
   "outputs": [],
   "source": []
  }
 ],
 "metadata": {
  "kernelspec": {
   "display_name": "Python 3",
   "language": "python",
   "name": "python3"
  },
  "language_info": {
   "codemirror_mode": {
    "name": "ipython",
    "version": 3
   },
   "file_extension": ".py",
   "mimetype": "text/x-python",
   "name": "python",
   "nbconvert_exporter": "python",
   "pygments_lexer": "ipython3",
   "version": "3.7.7"
  }
 },
 "nbformat": 4,
 "nbformat_minor": 4
}
