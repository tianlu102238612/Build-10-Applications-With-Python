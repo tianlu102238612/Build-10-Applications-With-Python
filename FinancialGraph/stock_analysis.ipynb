{
 "cells": [
  {
   "cell_type": "code",
   "execution_count": 47,
   "metadata": {},
   "outputs": [
    {
     "name": "stdout",
     "output_type": "stream",
     "text": [
      "\n",
      "<div class=\"bk-root\" id=\"63c66456-9958-4e55-80b4-a3cb31eeabf4\" data-root-id=\"6472\"></div>\n"
     ]
    }
   ],
   "source": [
    "from pandas_datareader import data\n",
    "import datetime\n",
    "from bokeh.plotting import figure,show,output_file\n",
    "from bokeh.embed import components\n",
    "from bokeh.resources import CDN\n",
    "\n",
    "start = datetime.datetime(2020,1,29)\n",
    "end = datetime.datetime(2020,6,29)\n",
    "df = data.DataReader(name=\"TSLA\",data_source=\"yahoo\",start=start,end=end)\n",
    "df.index[df.Close > df.Open]\n",
    "\n",
    "def inc_dec(c,o):\n",
    "    if c>o:\n",
    "        value = \"Increase\"\n",
    "    elif c<o:\n",
    "        value = \"Decrease\"\n",
    "    else:\n",
    "        value = \"Equal\"\n",
    "    return value\n",
    "\n",
    "df[\"Status\"] = [inc_dec(c,o) for c,o in zip(df.Close,df.Open)]\n",
    "df[\"Middle\"] = (df.Open + df.Close)/2\n",
    "df[\"Height\"] = abs(df.Close - df.Open)\n",
    "df\n",
    "\n",
    "p = figure(x_axis_type='datetime',width=1000,height=300)\n",
    "p.title.text = \"Candlestick Chart\"\n",
    "p.grid.grid_line_alpha = 0.3\n",
    "\n",
    "hours_12 = 12*60*60*1000\n",
    "p.segment(df.index,df.High,df.index,df.Low,color=\"Black\")\n",
    "\n",
    "p.rect(df.index[df.Status==\"Increase\"],df.Middle[df.Status == \"Increase\"],hours_12,df.Height[df.Status == \"Increase\"],fill_color=\"green\",line_color=\"black\")\n",
    "p.rect(df.index[df.Status==\"Decrease\"],df.Middle[df.Status == \"Decrease\"],hours_12,df.Height[df.Status == \"Decrease\"],fill_color=\"red\",line_color=\"black\")\n",
    "#output_file(\"stockAnalysis.html\")\n",
    "#show(p)\n",
    "\n",
    "script1,div1 = components(p)\n",
    "print(div1)\n",
    "\n",
    "cdn_js = CDN.js_files[0]\n"
   ]
  },
  {
   "cell_type": "code",
   "execution_count": null,
   "metadata": {},
   "outputs": [],
   "source": []
  }
 ],
 "metadata": {
  "kernelspec": {
   "display_name": "Python 3",
   "language": "python",
   "name": "python3"
  },
  "language_info": {
   "codemirror_mode": {
    "name": "ipython",
    "version": 3
   },
   "file_extension": ".py",
   "mimetype": "text/x-python",
   "name": "python",
   "nbconvert_exporter": "python",
   "pygments_lexer": "ipython3",
   "version": "3.7.7"
  }
 },
 "nbformat": 4,
 "nbformat_minor": 4
}
